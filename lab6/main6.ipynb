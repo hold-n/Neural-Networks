{
 "cells": [
  {
   "cell_type": "markdown",
   "metadata": {},
   "source": [
    "## Применение сверточных нейронных сетей (многоклассовая классификация)"
   ]
  },
  {
   "cell_type": "code",
   "execution_count": null,
   "metadata": {},
   "outputs": [],
   "source": [
    "import pathlib\n",
    "import os\n",
    "import itertools\n",
    "\n",
    "import numpy as np\n",
    "import tensorflow as tf\n",
    "import tensorflow.keras as keras\n",
    "import pandas as pd\n",
    "import matplotlib.pyplot as plt\n",
    "from sklearn.model_selection import train_test_split"
   ]
  },
  {
   "cell_type": "code",
   "execution_count": 50,
   "metadata": {},
   "outputs": [],
   "source": [
    "base_path = pathlib.Path('../blobs/sign-language-mnist')\n",
    "\n",
    "train = pd.read_csv(base_path / 'sign_mnist_train.csv')\n",
    "test = pd.read_csv(base_path / 'sign_mnist_test.csv')\n",
    "\n",
    "train['label'] = train['label'].astype(int)\n",
    "test['label'] = test['label'].astype(int)\n",
    "\n",
    "train = train.sample(frac=1).reset_index(drop=True)\n",
    "test = test.sample(frac=1).reset_index(drop=True)\n",
    "\n",
    "train[train.columns[1:]] = train[train.columns[1:]] / 255.\n",
    "test[test.columns[1:]] = test[test.columns[1:]] / 255.\n",
    "\n",
    "val, test = train_test_split(test, test_size=0.5, shuffle=False)"
   ]
  },
  {
   "cell_type": "code",
   "execution_count": 52,
   "metadata": {},
   "outputs": [],
   "source": [
    "labels = ['Unknown', 'A', 'B', 'C', 'D', 'E', 'F', 'G', 'H', 'I', 'K', 'L', 'M', 'N', 'O', 'P', 'Q', 'R', 'S', 'T', 'U', 'V', 'W', 'X', 'Y']"
   ]
  },
  {
   "cell_type": "code",
   "execution_count": 108,
   "metadata": {},
   "outputs": [
    {
     "data": {
      "image/png": "[encoded data removed]",
      "text/plain": [
       "<Figure size 360x648 with 6 Axes>"
      ]
     },
     "metadata": {
      "needs_background": "light"
     },
     "output_type": "display_data"
    }
   ],
   "source": [
    "fig = plt.figure(figsize=(5, 9))\n",
    "for i in range(6):\n",
    "    ax = fig.add_subplot(3, 2, i + 1)\n",
    "    ax.imshow(val.iloc[i][1:].values.reshape(28, 28))\n",
    "    ax.set_title(labels[val.iloc[i, 0]])\n",
    "plt.show()"
   ]
  },
  {
   "cell_type": "code",
   "execution_count": 160,
   "metadata": {},
   "outputs": [],
   "source": [
    "def create_dense_layers(n=64):\n",
    "    return keras.Sequential([\n",
    "        keras.layers.Flatten(),\n",
    "        keras.layers.Dropout(0.2),\n",
    "        keras.layers.Dense(n, activation='relu', kernel_regularizer=keras.regularizers.l2(0.05)),\n",
    "        keras.layers.Dropout(0.2),\n",
    "        keras.layers.Dense(len(labels))\n",
    "    ])\n",
    "\n",
    "def create_model():\n",
    "    return keras.Sequential([\n",
    "        keras.layers.Input((28, 28, 1)),\n",
    "        \n",
    "        keras.layers.Conv2D(filters=16, kernel_size=(3, 3), activation='relu'),\n",
    "        keras.layers.MaxPooling2D(pool_size=2),\n",
    "        keras.layers.BatchNormalization(),\n",
    "        \n",
    "        keras.layers.Conv2D(filters=32, kernel_size=(3, 3), activation='relu'),\n",
    "        keras.layers.BatchNormalization(),\n",
    "        \n",
    "        keras.layers.Conv2D(filters=64, kernel_size=(5, 5), activation='relu'),\n",
    "        keras.layers.BatchNormalization(),\n",
    "        \n",
    "        create_dense_layers()\n",
    "    ])\n",
    "\n",
    "# TODO: batch normalization?\n",
    "\n",
    "def compile_model(model):\n",
    "    model.compile(\n",
    "        optimizer='rmsprop', \n",
    "        loss=tf.keras.losses.SparseCategoricalCrossentropy(from_logits=True), \n",
    "        metrics=['accuracy']\n",
    "    )\n",
    "    \n",
    "def get_data(df):\n",
    "    return (\n",
    "        df.drop('label', axis=1).values.reshape(-1, 28, 28, 1), \n",
    "        df['label']\n",
    "    )"
   ]
  },
  {
   "cell_type": "markdown",
   "metadata": {},
   "source": [
    "#### Plain model"
   ]
  },
  {
   "cell_type": "code",
   "execution_count": 109,
   "metadata": {},
   "outputs": [
    {
     "name": "stdout",
     "output_type": "stream",
     "text": [
      "Model: \"sequential_19\"\n",
      "_________________________________________________________________\n",
      "Layer (type)                 Output Shape              Param #   \n",
      "=================================================================\n",
      "conv2d_60 (Conv2D)           (None, 26, 26, 16)        160       \n",
      "_________________________________________________________________\n",
      "max_pooling2d_25 (MaxPooling (None, 13, 13, 16)        0         \n",
      "_________________________________________________________________\n",
      "batch_normalization_60 (Batc (None, 13, 13, 16)        64        \n",
      "_________________________________________________________________\n",
      "conv2d_61 (Conv2D)           (None, 11, 11, 32)        4640      \n",
      "_________________________________________________________________\n",
      "batch_normalization_61 (Batc (None, 11, 11, 32)        128       \n",
      "_________________________________________________________________\n",
      "conv2d_62 (Conv2D)           (None, 7, 7, 64)          51264     \n",
      "_________________________________________________________________\n",
      "batch_normalization_62 (Batc (None, 7, 7, 64)          256       \n",
      "_________________________________________________________________\n",
      "flatten_20 (Flatten)         (None, 3136)              0         \n",
      "_________________________________________________________________\n",
      "dropout_40 (Dropout)         (None, 3136)              0         \n",
      "_________________________________________________________________\n",
      "dense_39 (Dense)             (None, 64)                200768    \n",
      "_________________________________________________________________\n",
      "dropout_41 (Dropout)         (None, 64)                0         \n",
      "_________________________________________________________________\n",
      "dense_40 (Dense)             (None, 25)                1625      \n",
      "=================================================================\n",
      "Total params: 258,905\n",
      "Trainable params: 258,681\n",
      "Non-trainable params: 224\n",
      "_________________________________________________________________\n"
     ]
    }
   ],
   "source": [
    "model = create_model()\n",
    "compile_model(model)\n",
    "model.summary()"
   ]
  },
  {
   "cell_type": "code",
   "execution_count": 110,
   "metadata": {},
   "outputs": [
    {
     "name": "stdout",
     "output_type": "stream",
     "text": [
      "Train on 27455 samples, validate on 3586 samples\n",
      "Epoch 1/5\n",
      "27455/27455 [==============================] - 23s 846us/sample - loss: 1.1814 - acc: 0.9114 - val_loss: 0.5870 - val_acc: 0.9116\n",
      "Epoch 2/5\n",
      "27455/27455 [==============================] - 22s 799us/sample - loss: 0.2469 - acc: 0.9865 - val_loss: 0.4927 - val_acc: 0.9108\n",
      "Epoch 3/5\n",
      "27455/27455 [==============================] - 21s 774us/sample - loss: 0.1645 - acc: 0.9908 - val_loss: 0.7119 - val_acc: 0.8625\n",
      "Epoch 4/5\n",
      "27455/27455 [==============================] - 21s 781us/sample - loss: 0.1367 - acc: 0.9924 - val_loss: 0.4423 - val_acc: 0.9083\n",
      "Epoch 5/5\n",
      "27455/27455 [==============================] - 20s 727us/sample - loss: 0.1345 - acc: 0.9915 - val_loss: 0.5413 - val_acc: 0.8656\n"
     ]
    },
    {
     "data": {
      "text/plain": [
       "<tensorflow.python.keras.callbacks.History at 0x7fc4bcf86470>"
      ]
     },
     "execution_count": 110,
     "metadata": {},
     "output_type": "execute_result"
    }
   ],
   "source": [
    "model.fit(\n",
    "    *get_data(train), \n",
    "    validation_data=get_data(val), \n",
    "    epochs=5\n",
    ")"
   ]
  },
  {
   "cell_type": "code",
   "execution_count": 111,
   "metadata": {},
   "outputs": [
    {
     "name": "stdout",
     "output_type": "stream",
     "text": [
      "3586/3586 [==============================] - 1s 176us/sample - loss: 0.5288 - acc: 0.8728\n"
     ]
    }
   ],
   "source": [
    "score, accuracy = model.evaluate(*get_data(test))"
   ]
  },
  {
   "cell_type": "markdown",
   "metadata": {},
   "source": [
    "Okay, **87%** is something, but we overfit a lot"
   ]
  },
  {
   "cell_type": "markdown",
   "metadata": {},
   "source": [
    "#### Augmentations"
   ]
  },
  {
   "cell_type": "code",
   "execution_count": 105,
   "metadata": {},
   "outputs": [
    {
     "name": "stdout",
     "output_type": "stream",
     "text": [
      "Epoch 1/5\n",
      "858/858 [==============================] - 24s 28ms/step - loss: 2.6158 - acc: 0.5527 - val_loss: 1.2338 - val_acc: 0.7457\n",
      "Epoch 2/5\n",
      "858/858 [==============================] - 22s 25ms/step - loss: 0.9582 - acc: 0.8424 - val_loss: 0.9169 - val_acc: 0.8631\n",
      "Epoch 3/5\n",
      "858/858 [==============================] - 20s 23ms/step - loss: 0.7182 - acc: 0.8928 - val_loss: 0.6691 - val_acc: 0.9035\n",
      "Epoch 4/5\n",
      "858/858 [==============================] - 19s 22ms/step - loss: 0.6087 - acc: 0.9149 - val_loss: 1.5502 - val_acc: 0.7719\n",
      "Epoch 5/5\n",
      "858/858 [==============================] - 19s 22ms/step - loss: 0.5653 - acc: 0.9197 - val_loss: 0.3974 - val_acc: 0.9732\n"
     ]
    },
    {
     "data": {
      "text/plain": [
       "<tensorflow.python.keras.callbacks.History at 0x7fc4bee1a940>"
      ]
     },
     "execution_count": 105,
     "metadata": {},
     "output_type": "execute_result"
    }
   ],
   "source": [
    "gen = keras.preprocessing.image.ImageDataGenerator(\n",
    "    rotation_range=10,\n",
    "    width_shift_range=0.2,\n",
    "    height_shift_range=0.2,\n",
    "    zoom_range=0.1\n",
    ")\n",
    "x, y = get_data(train)\n",
    "flow = gen.flow(\n",
    "    *get_data(train), \n",
    "    shuffle=False, \n",
    "    batch_size=32\n",
    ")\n",
    "\n",
    "aug_model = create_model()\n",
    "compile_model(aug_model)\n",
    "\n",
    "aug_model.fit(\n",
    "    flow,\n",
    "    validation_data=get_data(val), \n",
    "    epochs=5\n",
    ")"
   ]
  },
  {
   "cell_type": "code",
   "execution_count": 106,
   "metadata": {},
   "outputs": [
    {
     "name": "stdout",
     "output_type": "stream",
     "text": [
      "3586/3586 [==============================] - 1s 166us/sample - loss: 0.3392 - acc: 0.9891\n"
     ]
    }
   ],
   "source": [
    "score, accuracy = model.evaluate(*get_data(test))"
   ]
  },
  {
   "cell_type": "markdown",
   "metadata": {},
   "source": [
    "Nice! Almost **99%** with no changes in the architecture and in just 5 epochs!"
   ]
  },
  {
   "cell_type": "markdown",
   "metadata": {},
   "source": [
    "With these results we don't even need to resort to transfer learning. But let's try. We'll use smth small as the task is simple"
   ]
  },
  {
   "cell_type": "markdown",
   "metadata": {},
   "source": [
    "#### Transfer learning"
   ]
  },
  {
   "cell_type": "markdown",
   "metadata": {},
   "source": [
    "Built-in keras models all require RGB input. Also, MobileNet needs images of size at least 32\\*32. So upscaling and duplicating channels"
   ]
  },
  {
   "cell_type": "code",
   "execution_count": 169,
   "metadata": {},
   "outputs": [],
   "source": [
    "mobile_model_raw = keras.applications.mobilenet_v2.MobileNetV2(\n",
    "    weights='imagenet',\n",
    "    include_top=False,\n",
    "    input_shape=(56, 56, 3)\n",
    ")\n",
    "mobile_model_raw.trainable = False"
   ]
  },
  {
   "cell_type": "code",
   "execution_count": 170,
   "metadata": {},
   "outputs": [
    {
     "name": "stdout",
     "output_type": "stream",
     "text": [
      "Model: \"model_9\"\n",
      "_________________________________________________________________\n",
      "Layer (type)                 Output Shape              Param #   \n",
      "=================================================================\n",
      "input_53 (InputLayer)        [(None, 28, 28, 3)]       0         \n",
      "_________________________________________________________________\n",
      "up_sampling2d_14 (UpSampling (None, 56, 56, 3)         0         \n",
      "_________________________________________________________________\n",
      "mobilenetv2_1.00_224 (Model) (None, 2, 2, 1280)        2257984   \n",
      "_________________________________________________________________\n",
      "global_average_pooling2d_6 ( (None, 1280)              0         \n",
      "_________________________________________________________________\n",
      "sequential_41 (Sequential)   (None, 25)                167193    \n",
      "=================================================================\n",
      "Total params: 2,425,177\n",
      "Trainable params: 167,193\n",
      "Non-trainable params: 2,257,984\n",
      "_________________________________________________________________\n"
     ]
    }
   ],
   "source": [
    "input_layer = keras.layers.Input((28, 28, 3))\n",
    "x = keras.layers.UpSampling2D()(input_layer)\n",
    "x = mobile_model_raw(x)\n",
    "x = keras.layers.GlobalAveragePooling2D()(x)\n",
    "x = create_dense_layers(128)(x)\n",
    "mobile_model = keras.Model(inputs=input_layer, outputs=x)\n",
    "\n",
    "compile_model(mobile_model)\n",
    "mobile_model.summary()"
   ]
  },
  {
   "cell_type": "code",
   "execution_count": 173,
   "metadata": {},
   "outputs": [
    {
     "name": "stdout",
     "output_type": "stream",
     "text": [
      "Train on 27455 samples, validate on 3586 samples\n",
      "Epoch 1/5\n",
      "27455/27455 [==============================] - 94s 3ms/sample - loss: 2.1252 - acc: 0.6138 - val_loss: 4.1013 - val_acc: 0.1350\n",
      "Epoch 2/5\n",
      "27455/27455 [==============================] - 87s 3ms/sample - loss: 2.1301 - acc: 0.6140 - val_loss: 4.4278 - val_acc: 0.1297\n",
      "Epoch 3/5\n",
      "27455/27455 [==============================] - 85s 3ms/sample - loss: 2.1559 - acc: 0.6131 - val_loss: 4.6543 - val_acc: 0.1076\n",
      "Epoch 4/5\n",
      "27455/27455 [==============================] - 90s 3ms/sample - loss: 2.1366 - acc: 0.6195 - val_loss: 4.5383 - val_acc: 0.1339\n",
      "Epoch 5/5\n",
      "27455/27455 [==============================] - 90s 3ms/sample - loss: 2.1524 - acc: 0.6148 - val_loss: 4.4807 - val_acc: 0.1344\n"
     ]
    },
    {
     "data": {
      "text/plain": [
       "<tensorflow.python.keras.callbacks.History at 0x7fc36bec1630>"
      ]
     },
     "execution_count": 173,
     "metadata": {},
     "output_type": "execute_result"
    }
   ],
   "source": [
    "x, y = get_data(train)\n",
    "rgb_x = np.repeat(x, 3, -1)\n",
    "x_val, y_val = get_data(val)\n",
    "rgb_x_val = np.repeat(x_val, 3, -1)\n",
    "\n",
    "mobile_model.fit(\n",
    "    rgb_x,\n",
    "    y,\n",
    "    validation_data=(rgb_x_val, y_val), \n",
    "    epochs=5\n",
    ")"
   ]
  },
  {
   "cell_type": "code",
   "execution_count": 172,
   "metadata": {},
   "outputs": [
    {
     "name": "stdout",
     "output_type": "stream",
     "text": [
      "3586/3586 [==============================] - 8s 2ms/sample - loss: 4.0217 - acc: 0.1645\n"
     ]
    }
   ],
   "source": [
    "x, y = get_data(test)\n",
    "rgb_x = np.repeat(x, 3, -1)\n",
    "score, accuracy = mobile_model.evaluate(rgb_x, y)"
   ]
  },
  {
   "cell_type": "markdown",
   "metadata": {},
   "source": [
    "Something's not right. Though there's initially some progress, the loss just stops at arount 2.11 and never goes down. Even after 10 epochs train accuracy is around 61%. Need to investigate. Anyhow, our performance without transfer learning is beyound expectations."
   ]
  }
 ],
 "metadata": {
  "kernelspec": {
   "display_name": "Python 3",
   "language": "python",
   "name": "python3"
  },
  "language_info": {
   "codemirror_mode": {
    "name": "ipython",
    "version": 3
   },
   "file_extension": ".py",
   "mimetype": "text/x-python",
   "name": "python",
   "nbconvert_exporter": "python",
   "pygments_lexer": "ipython3",
   "version": "3.6.9"
  }
 },
 "nbformat": 4,
 "nbformat_minor": 4
}
