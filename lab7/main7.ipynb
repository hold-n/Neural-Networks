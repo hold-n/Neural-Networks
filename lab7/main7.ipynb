{
 "cells": [
  {
   "cell_type": "markdown",
   "metadata": {},
   "source": [
    "## Рекуррентные нейронные сети для анализа текста"
   ]
  },
  {
   "cell_type": "code",
   "execution_count": null,
   "metadata": {},
   "outputs": [],
   "source": [
    "import pathlib\n",
    "import os\n",
    "import itertools\n",
    "import re\n",
    "\n",
    "import numpy as np\n",
    "import tensorflow as tf\n",
    "import tensorflow.keras as keras\n",
    "import pandas as pd\n",
    "import matplotlib.pyplot as plt\n",
    "import sklearn\n",
    "from sklearn.model_selection import train_test_split"
   ]
  },
  {
   "cell_type": "code",
   "execution_count": 2,
   "metadata": {},
   "outputs": [],
   "source": [
    "base_path = pathlib.Path('../blobs/aclImdb')\n",
    "train_path = base_path / 'train'\n",
    "test_path = base_path / 'test'\n",
    "\n",
    "EOS = '<EOS>'\n",
    "UNKNOWN = '<UNKNOWN>'\n",
    "vocab = pd.read_csv(base_path / 'imdb.vocab', header=None, squeeze=True)\n",
    "full_vocab = pd.Series([EOS, UNKNOWN]).append(vocab, ignore_index=True)\n",
    "\n",
    "word_to_index = {word: index for index, word in full_vocab.iteritems()}\n",
    "index_to_word = {index: word for index, word in full_vocab.iteritems()}"
   ]
  },
  {
   "cell_type": "code",
   "execution_count": 3,
   "metadata": {},
   "outputs": [],
   "source": [
    "# TODO: tf.keras.preprocessing.text.Tokenizer\n",
    "# TODO: consider punctuation as vocabulary entries?\n",
    "\n",
    "def get_words(sentence):\n",
    "    contents = sentence.lower()\n",
    "    contents = re.sub(r'</? *\\w+ */?>', '', contents)\n",
    "    # an approximate list of special characters, should be ok if we disregard some words\n",
    "    # contents = re.sub(r'[.,\\'\"\\-0-9:!?\\(\\)\\n;/*%~&{}$\\-]', ' ', contents)\n",
    "    contents = re.sub(r'\\W', ' ', contents)\n",
    "    contents = re.sub(r'\\d', '', contents)\n",
    "    return contents.split()\n",
    "\n",
    "def read_review(filename):\n",
    "    with open(filename, mode='r') as f:\n",
    "        contents = f.read()\n",
    "        words = get_words(contents)\n",
    "        return [word_to_index.get(word, word_to_index[UNKNOWN]) for word in words]\n",
    "    \n",
    "def get_rating(filename):\n",
    "    return int(filename.stem.split('_')[1])"
   ]
  },
  {
   "cell_type": "code",
   "execution_count": 4,
   "metadata": {},
   "outputs": [],
   "source": [
    "# The average train review size is 256.75. Truncating all reviews at 250\n",
    "REVIEW_SIZE = 250"
   ]
  },
  {
   "cell_type": "code",
   "execution_count": 5,
   "metadata": {},
   "outputs": [
    {
     "name": "stdout",
     "output_type": "stream",
     "text": [
      "25000 train samples, each padded to 250 words\n"
     ]
    }
   ],
   "source": [
    "files = list((train_path / 'pos').glob('*')) + \\\n",
    "    list((train_path / 'neg').glob('*'))\n",
    "x_train = [read_review(name) for name in files]\n",
    "y_train = [get_rating(f) for f in files]\n",
    "\n",
    "x_train = keras.preprocessing.sequence.pad_sequences(\n",
    "    x_train, \n",
    "    value=word_to_index[EOS], \n",
    "    maxlen=REVIEW_SIZE,\n",
    "    padding='post', \n",
    "    truncating='post'\n",
    ")\n",
    "\n",
    "x_train, y_train = sklearn.utils.shuffle(np.array(x_train), np.array(y_train))\n",
    "\n",
    "assert(len(x_train) == len(y_train))\n",
    "assert(all(len(s) == len(x_train[0]) for s in x_train))\n",
    "print(len(x_train), 'train samples, each padded to', len(x_train[0]), 'words')"
   ]
  },
  {
   "cell_type": "code",
   "execution_count": 6,
   "metadata": {},
   "outputs": [
    {
     "name": "stdout",
     "output_type": "stream",
     "text": [
      "25000 test samples, each padded to 250 words\n"
     ]
    }
   ],
   "source": [
    "files = list((test_path / 'pos').glob('*')) + \\\n",
    "    list((test_path / 'neg').glob('*'))\n",
    "x_test = [read_review(name) for name in files]\n",
    "y_test = [get_rating(f) for f in files]\n",
    "\n",
    "x_test = keras.preprocessing.sequence.pad_sequences(\n",
    "    x_test, \n",
    "    value=word_to_index[EOS], \n",
    "    maxlen=REVIEW_SIZE,\n",
    "    padding='post', \n",
    "    truncating='post'\n",
    ")\n",
    "\n",
    "x_test, y_test = sklearn.utils.shuffle(np.array(x_test), np.array(y_test))\n",
    "\n",
    "assert(len(x_test) == len(y_test))\n",
    "assert(all(len(s) == len(x_test[0]) for s in x_test))\n",
    "print(len(x_test), 'test samples, each padded to', len(x_test[0]), 'words')"
   ]
  },
  {
   "cell_type": "code",
   "execution_count": 38,
   "metadata": {},
   "outputs": [],
   "source": [
    "def get_processed_review(sentence):\n",
    "    return ' '.join(index_to_word[word] for word in sentence)"
   ]
  },
  {
   "cell_type": "code",
   "execution_count": 39,
   "metadata": {},
   "outputs": [
    {
     "name": "stdout",
     "output_type": "stream",
     "text": [
      "Rating: 3\n",
      "there s a lot of good that can be said for this cartoon the backgrounds are rich lushly colored and full of nicely done art deco details the animation is up to the usual studio standards of the time which are unquestionably higher than those of the present day however i find it tedious for a number of reasons the music it s definitely not up to scott bradley s usual standards although it s probably supposed to be evocative of a great gatsby setting it ends up being dreary sleepy repetitious and monotonous repetitious and monotonous are not the same as beethoven s th symphony attests since most people including me tend to close their eyes when they yawn there s a lot of the visual part of the cartoon that will be missed by the average viewer the storyline i m not giving away any secrets that <UNKNOWN> t already in the plot summary country good city bad this is a common theme in films both animated and live from this era it s a misplaced nostalgia for a nonexistent rural idyll which in the present day is reflected in a similar nostalgia for values that never were <EOS> <EOS> <EOS> <EOS> <EOS> <EOS> <EOS> <EOS> <EOS> <EOS> <EOS> <EOS> <EOS> <EOS> <EOS> <EOS> <EOS> <EOS> <EOS> <EOS> <EOS> <EOS> <EOS> <EOS> <EOS> <EOS> <EOS> <EOS> <EOS> <EOS> <EOS> <EOS> <EOS> <EOS> <EOS> <EOS> <EOS> <EOS> <EOS> <EOS> <EOS> <EOS> <EOS> <EOS> <EOS> <EOS> <EOS> <EOS> <EOS> <EOS>\n"
     ]
    }
   ],
   "source": [
    "i = np.random.randint(len(x_train))\n",
    "print('Rating:', y_train[i])\n",
    "print(get_processed_review(x_train[i]))"
   ]
  },
  {
   "cell_type": "markdown",
   "metadata": {},
   "source": [
    "I was going to try using one-hot encoding first, but with the vocabulary of around 90k words the train dataset would not fit on the disk drive. Generators?"
   ]
  },
  {
   "cell_type": "code",
   "execution_count": 33,
   "metadata": {},
   "outputs": [
    {
     "name": "stdout",
     "output_type": "stream",
     "text": [
      "Model: \"sequential_15\"\n",
      "_________________________________________________________________\n",
      "Layer (type)                 Output Shape              Param #   \n",
      "=================================================================\n",
      "embedding_6 (Embedding)      (None, None, 50)          4476450   \n",
      "_________________________________________________________________\n",
      "gru_14 (GRU)                 (None, 200)               150600    \n",
      "_________________________________________________________________\n",
      "dense_2 (Dense)              (None, 1)                 201       \n",
      "=================================================================\n",
      "Total params: 4,627,251\n",
      "Trainable params: 4,627,251\n",
      "Non-trainable params: 0\n",
      "_________________________________________________________________\n"
     ]
    }
   ],
   "source": [
    "model = keras.Sequential([\n",
    "    keras.layers.Embedding(len(full_vocab), 50, input_length=REVIEW_SIZE),\n",
    "    keras.layers.GRU(units=200, return_sequences=False),\n",
    "    keras.layers.Dense(1)\n",
    "])\n",
    "model.compile('adam', 'mse')\n",
    "model.summary()"
   ]
  },
  {
   "cell_type": "code",
   "execution_count": null,
   "metadata": {},
   "outputs": [],
   "source": [
    "model.fit(x_train, y_train, epochs=3)"
   ]
  },
  {
   "cell_type": "code",
   "execution_count": null,
   "metadata": {},
   "outputs": [],
   "source": [
    "score, accuracy = model.evaluate(x_test, y_test)"
   ]
  },
  {
   "cell_type": "code",
   "execution_count": 36,
   "metadata": {},
   "outputs": [],
   "source": [
    "foo = model.predict(x_test)"
   ]
  },
  {
   "cell_type": "code",
   "execution_count": 60,
   "metadata": {},
   "outputs": [
    {
     "name": "stdout",
     "output_type": "stream",
     "text": [
      "Predicted Rating: 3.856542\n",
      "Actual rating: 8\n",
      "\t something i think some people miss about great science fiction is that it predicts some part of the future no other theatrical movie that i can recall predicted that when the space shuttle went to study halley s comet that a disaster would occur some differences were the churchill the shuttle in the movie actually went to the comet the challenger was only in low earth orbit the churchill was merely burned out inside whereas the challenger exploded hey the vampires had to get back to earth one great similarity and this is always bad luck both had mixed male female crews the legend of halley s comet and disaster continues other than this there is not much more to be said about this movie that hasn t been said before as a outer space science fiction horror sex film individually it provided nothing really new but as in all great dishes it is the combination that counts and taken together this was a highly original and satisfying combination i just wish mathilda may would drain her victims through another part of the body <EOS> <EOS> <EOS> <EOS> <EOS> <EOS> <EOS> <EOS> <EOS> <EOS> <EOS> <EOS> <EOS> <EOS> <EOS> <EOS> <EOS> <EOS> <EOS> <EOS> <EOS> <EOS> <EOS> <EOS> <EOS> <EOS> <EOS> <EOS> <EOS> <EOS> <EOS> <EOS> <EOS> <EOS> <EOS> <EOS> <EOS> <EOS> <EOS> <EOS> <EOS> <EOS> <EOS> <EOS> <EOS> <EOS> <EOS> <EOS> <EOS> <EOS> <EOS> <EOS> <EOS> <EOS> <EOS> <EOS> <EOS> <EOS> <EOS> <EOS> <EOS> <EOS> <EOS> <EOS> <EOS> <EOS>\n",
      "Predicted Rating: 8.627096\n",
      "Actual rating: 9\n",
      "\t it has been recorded that john ford made the big blockbuster movies so that he could afford to make the small movies that he loved so well wagon master with a young ben johnson is clearly one of his best if not the best of his small movies the location shooting the wagons the intricate work with horses and the inclusion of the plains indian are all trade marks of ford as in many of his other films eisenstein the great russian director s influence is seen in this film the supporting cast including ward bond russell simpson and jane darwell are excellent as well as the many minor character actors ford used including his brother the one who plays the drums while ben johnson went on to win a well deserved supporting oscar for the last picture show his co star harry carey jr did not reach those heights although his father carey sr became a western leading man in ford s early films carey jr spent most of his career in supporting roles for fans of john ford and for fans of western films this one is a must <EOS> <EOS> <EOS> <EOS> <EOS> <EOS> <EOS> <EOS> <EOS> <EOS> <EOS> <EOS> <EOS> <EOS> <EOS> <EOS> <EOS> <EOS> <EOS> <EOS> <EOS> <EOS> <EOS> <EOS> <EOS> <EOS> <EOS> <EOS> <EOS> <EOS> <EOS> <EOS> <EOS> <EOS> <EOS> <EOS> <EOS> <EOS> <EOS> <EOS> <EOS> <EOS> <EOS> <EOS> <EOS> <EOS> <EOS> <EOS> <EOS> <EOS> <EOS> <EOS> <EOS> <EOS> <EOS> <EOS> <EOS> <EOS> <EOS>\n",
      "Predicted Rating: 4.6031165\n",
      "Actual rating: 7\n",
      "\t first i m a huge buddy holly fan i grew up knowing who he was and i knew all about that fateful plane ride that extinguished three incredibly bright flames just like that but i had never truly listened to his music i had heard much of it yes but not until i sat down with the intention of getting something out of it did i truly come to see the real buddy holly and let me tell you that my world is a different one now because of him because of this adoration for such an incredible man i bought the buddy holly story without ever seeing it previously i m torn on my views of this film perhaps it s because buddy feels so alive to me that i just couldn t bear seeing gary busey in this role i ll admit that he did a nice job acting but his singing sounded so forced it seemed to me as if he knew he didn t sound a bit like buddy himself and therefore was using far too much energy to make an attempt at a similar sound in some parts of the film he succeeded but others ouch the movie spanned a period of several years but i feel that portraying this time span could have been handled much better i had a difficult time distinguishing at what point in buddy s life certain events were happening i also had a serious problem with some of the\n"
     ]
    }
   ],
   "source": [
    "for _ in range(3):\n",
    "    i = np.random.randint(len(x_test))\n",
    "    print('Predicted Rating:', np.squeeze(foo[i]))\n",
    "    print('Actual rating:', y_test[i])\n",
    "    print('\\t', get_processed_review(x_test[i]))"
   ]
  }
 ],
 "metadata": {
  "kernelspec": {
   "display_name": "Python 3",
   "language": "python",
   "name": "python3"
  },
  "language_info": {
   "codemirror_mode": {
    "name": "ipython",
    "version": 3
   },
   "file_extension": ".py",
   "mimetype": "text/x-python",
   "name": "python",
   "nbconvert_exporter": "python",
   "pygments_lexer": "ipython3",
   "version": "3.6.9"
  }
 },
 "nbformat": 4,
 "nbformat_minor": 4
}
